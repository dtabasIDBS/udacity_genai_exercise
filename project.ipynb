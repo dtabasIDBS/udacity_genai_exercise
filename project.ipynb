{
 "cells": [
  {
   "cell_type": "markdown",
   "id": "ffff9471",
   "metadata": {},
   "source": [
    "# HomeMatch"
   ]
  },
  {
   "cell_type": "code",
   "execution_count": 42,
   "id": "1ddf2bad",
   "metadata": {},
   "outputs": [],
   "source": [
    "import os\n",
    "from pydantic import BaseModel, Field\n",
    "from typing import List\n",
    "from langchain_openai import ChatOpenAI, OpenAIEmbeddings\n",
    "from langchain.schema import Document as LangchainDocument\n",
    "from langchain_chroma import Chroma\n",
    "import json\n",
    "from dotenv import load_dotenv"
   ]
  },
  {
   "cell_type": "code",
   "execution_count": 2,
   "id": "6a696cfe",
   "metadata": {},
   "outputs": [],
   "source": [
    "load_dotenv()\n",
    "\n",
    "os.environ[\"OPENAI_API_KEY\"] = str(os.environ.get(\"OPENAI_API_KEY\"))\n",
    "os.environ[\"OPENAI_API_BASE\"] = \"https://openai.vocareum.com/v1\""
   ]
  },
  {
   "cell_type": "code",
   "execution_count": 3,
   "id": "e8a31ff5",
   "metadata": {},
   "outputs": [],
   "source": [
    "llm = ChatOpenAI(model=\"gpt-3.5-turbo\", temperature=0)\n",
    "embeddings = OpenAIEmbeddings(model=\"text-embedding-3-large\")"
   ]
  },
  {
   "cell_type": "code",
   "execution_count": 5,
   "id": "a4d4a4b5",
   "metadata": {},
   "outputs": [
    {
     "name": "stderr",
     "output_type": "stream",
     "text": [
      "/Users/dtabas/Library/CloudStorage/OneDrive-Danaher/Projects/Udacity/real_state_project/genai_exercise/.conda/lib/python3.12/site-packages/langchain_openai/chat_models/base.py:1857: UserWarning: Cannot use method='json_schema' with model gpt-3.5-turbo since it doesn't support OpenAI's Structured Output API. You can see supported models here: https://platform.openai.com/docs/guides/structured-outputs#supported-models. To fix this warning, set `method='function_calling'. Overriding to method='function_calling'.\n",
      "  warnings.warn(\n"
     ]
    }
   ],
   "source": [
    "class RealEstateDescription(BaseModel):\n",
    "    \"\"\"Information of a property\"\"\"\n",
    "    neighborhood: str = Field(..., description=\"Name of the neighborhood\")\n",
    "    price: int = Field(..., description=\"Listing price in USD\")\n",
    "    bedrooms: int = Field(..., description=\"Number of bedrooms\")\n",
    "    bathrooms: int = Field(..., description=\"Number of bathrooms\")\n",
    "    house_size: int = Field(..., description=\"Size of the house in square feet\")\n",
    "    description: str = Field(..., description=\"Detailed description of about 100 words of the property\")\n",
    "    neighborhood_description: str = Field(..., description=\"Description of the neighborhood\")\n",
    "\n",
    "class RealEstateListing(BaseModel):\n",
    "    \"\"\"A collection of real estate listings\"\"\"\n",
    "    listing: List[RealEstateDescription] = Field(..., description=\"List of real estate property descriptions\")\n",
    "\n",
    "\n",
    "structured_llm = llm.with_structured_output(RealEstateListing)\n",
    "prompt = \"Generate a real estate listing of 20 properties\"\n",
    "listing = structured_llm.invoke(prompt)"
   ]
  },
  {
   "cell_type": "code",
   "execution_count": 44,
   "id": "93d81082",
   "metadata": {},
   "outputs": [],
   "source": [
    "with open('listing.json', 'w') as f:\n",
    "    json.dump(listing.model_dump(), f)"
   ]
  },
  {
   "cell_type": "code",
   "execution_count": 48,
   "id": "c2a9b0ba",
   "metadata": {},
   "outputs": [],
   "source": [
    "with open('listing.json') as f:\n",
    "    listing_data = json.load(f)"
   ]
  },
  {
   "cell_type": "code",
   "execution_count": 49,
   "id": "c6031ed9",
   "metadata": {},
   "outputs": [],
   "source": [
    "\n",
    "documents = []\n",
    "for i, item in enumerate(listing_data[\"listing\"]):\n",
    "    formatted_string = \"\\n\".join(f\"{key}: {value}\" for key, value in item.items())\n",
    "    doc = LangchainDocument(page_content=formatted_string, metadata=item)\n",
    "    documents.append(doc)"
   ]
  },
  {
   "cell_type": "code",
   "execution_count": 50,
   "id": "ee3db8bb",
   "metadata": {},
   "outputs": [],
   "source": [
    "db = Chroma(embedding_function=embeddings,persist_directory=\"db\",collection_name=\"homematch\")"
   ]
  },
  {
   "cell_type": "code",
   "execution_count": 51,
   "id": "85d228a3",
   "metadata": {},
   "outputs": [],
   "source": [
    "db.reset_collection()"
   ]
  },
  {
   "cell_type": "code",
   "execution_count": 52,
   "id": "9a7ec18d",
   "metadata": {},
   "outputs": [
    {
     "data": {
      "text/plain": [
       "['ea23ae1f-af7a-47e0-9459-0857f7d856c6',\n",
       " '4a65d48d-3f43-459b-a8fd-1b2089b01c7b',\n",
       " '50b48966-df4a-4d67-b9c3-1567d2031c02',\n",
       " '604f16e2-3898-47eb-a493-e868f176b74e',\n",
       " '08dea37e-cf38-46c7-9559-46f92d884064',\n",
       " 'd0a39b6e-b82f-478f-82c7-47b4fd9a840e',\n",
       " '7ff76916-7076-4d8c-8875-c2b354ac1f6d',\n",
       " '8538aaa9-3a75-4269-8257-14073e4b369e',\n",
       " 'f332e367-17da-4e11-95bd-92949824d7af',\n",
       " '3eb2c0a0-9ef4-4587-a206-9da45662753f',\n",
       " '056bdefb-9cf8-438e-ba9f-772a74e7f7c9',\n",
       " 'd6cb5dba-db2a-41fa-83cf-aab549971578',\n",
       " '54c44015-a1d4-4e9d-b02a-654263994469',\n",
       " '231e38be-9f53-4301-8434-4ac369bd2238',\n",
       " 'b4bce77e-91af-4317-ab4e-b3d988e91c76',\n",
       " '472ac7d5-74b4-4842-b7ba-ad7e21244041',\n",
       " 'f675902f-4619-4d0d-88dd-9e4ca26bc4a2',\n",
       " '954b21a3-8c76-4b80-97df-1bcf46c797ab',\n",
       " '38562ff4-925c-4ba1-a26c-1178563673c0']"
      ]
     },
     "execution_count": 52,
     "metadata": {},
     "output_type": "execute_result"
    }
   ],
   "source": [
    "db.add_documents(documents)"
   ]
  },
  {
   "cell_type": "code",
   "execution_count": 53,
   "id": "92f6830f",
   "metadata": {},
   "outputs": [
    {
     "data": {
      "text/plain": [
       "[Document(id='d0a39b6e-b82f-478f-82c7-47b4fd9a840e', metadata={'price': 800000, 'house_size': 2800, 'bedrooms': 4, 'description': 'Beachfront property with direct access to the sandy shore. Spacious living room with ocean views. Gourmet kitchen with a breakfast bar. Master suite with a walk-in closet. Outdoor deck for entertaining.', 'bathrooms': 3, 'neighborhood_description': 'Prime beachfront location with water sports and beach activities.', 'neighborhood': 'Beachfront'}, page_content='neighborhood: Beachfront\\nprice: 800000\\nbedrooms: 4\\nbathrooms: 3\\nhouse_size: 2800\\ndescription: Beachfront property with direct access to the sandy shore. Spacious living room with ocean views. Gourmet kitchen with a breakfast bar. Master suite with a walk-in closet. Outdoor deck for entertaining.\\nneighborhood_description: Prime beachfront location with water sports and beach activities.'),\n",
       " Document(id='50b48966-df4a-4d67-b9c3-1567d2031c02', metadata={'description': 'Luxurious waterfront condo with stunning views of the bay. Floor-to-ceiling windows in the living room. Gourmet kitchen with top-of-the-line appliances. Master suite with a spa-like bathroom. Balcony overlooking the water.', 'bathrooms': 2, 'price': 700000, 'house_size': 1800, 'bedrooms': 2, 'neighborhood_description': 'Exclusive waterfront community with marina and waterfront dining.', 'neighborhood': 'Waterfront'}, page_content='neighborhood: Waterfront\\nprice: 700000\\nbedrooms: 2\\nbathrooms: 2\\nhouse_size: 1800\\ndescription: Luxurious waterfront condo with stunning views of the bay. Floor-to-ceiling windows in the living room. Gourmet kitchen with top-of-the-line appliances. Master suite with a spa-like bathroom. Balcony overlooking the water.\\nneighborhood_description: Exclusive waterfront community with marina and waterfront dining.'),\n",
       " Document(id='b4bce77e-91af-4317-ab4e-b3d988e91c76', metadata={'price': 950000, 'bedrooms': 6, 'bathrooms': 5, 'house_size': 3500, 'neighborhood': 'Waterfront Estate', 'description': \"Majestic waterfront estate with panoramic water views. Formal living room with a fireplace. Chef's kitchen with a breakfast nook. Master suite with a private balcony. Outdoor pool and spa.\", 'neighborhood_description': 'Exclusive waterfront community with luxury estates and private docks.'}, page_content=\"neighborhood: Waterfront Estate\\nprice: 950000\\nbedrooms: 6\\nbathrooms: 5\\nhouse_size: 3500\\ndescription: Majestic waterfront estate with panoramic water views. Formal living room with a fireplace. Chef's kitchen with a breakfast nook. Master suite with a private balcony. Outdoor pool and spa.\\nneighborhood_description: Exclusive waterfront community with luxury estates and private docks.\"),\n",
       " Document(id='8538aaa9-3a75-4269-8257-14073e4b369e', metadata={'bedrooms': 4, 'bathrooms': 3, 'description': \"Lakefront retreat with a private dock for boating. Spacious living area with lake views. Chef's kitchen with a large island. Master suite with a balcony overlooking the water. Outdoor patio for lakeside dining.\", 'house_size': 2600, 'neighborhood': 'Lakefront', 'price': 750000, 'neighborhood_description': 'Serene lakefront community with water activities and fishing opportunities.'}, page_content=\"neighborhood: Lakefront\\nprice: 750000\\nbedrooms: 4\\nbathrooms: 3\\nhouse_size: 2600\\ndescription: Lakefront retreat with a private dock for boating. Spacious living area with lake views. Chef's kitchen with a large island. Master suite with a balcony overlooking the water. Outdoor patio for lakeside dining.\\nneighborhood_description: Serene lakefront community with water activities and fishing opportunities.\")]"
      ]
     },
     "execution_count": 53,
     "metadata": {},
     "output_type": "execute_result"
    }
   ],
   "source": [
    "db.similarity_search(\"beachfront\")"
   ]
  },
  {
   "cell_type": "code",
   "execution_count": null,
   "id": "d828ebe5",
   "metadata": {},
   "outputs": [],
   "source": []
  },
  {
   "cell_type": "code",
   "execution_count": null,
   "id": "82cd065e",
   "metadata": {},
   "outputs": [],
   "source": []
  }
 ],
 "metadata": {
  "kernelspec": {
   "display_name": "Python 3",
   "language": "python",
   "name": "python3"
  },
  "language_info": {
   "codemirror_mode": {
    "name": "ipython",
    "version": 3
   },
   "file_extension": ".py",
   "mimetype": "text/x-python",
   "name": "python",
   "nbconvert_exporter": "python",
   "pygments_lexer": "ipython3",
   "version": "3.12.11"
  }
 },
 "nbformat": 4,
 "nbformat_minor": 5
}
