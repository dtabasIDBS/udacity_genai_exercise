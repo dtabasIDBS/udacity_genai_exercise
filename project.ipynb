{
 "cells": [
  {
   "cell_type": "markdown",
   "id": "ffff9471",
   "metadata": {},
   "source": [
    "# HomeMatch"
   ]
  },
  {
   "cell_type": "markdown",
   "id": "b8794d95",
   "metadata": {},
   "source": [
    "## Libraries and setup"
   ]
  },
  {
   "cell_type": "code",
   "execution_count": 15,
   "id": "1ddf2bad",
   "metadata": {},
   "outputs": [],
   "source": [
    "import os\n",
    "import json\n",
    "\n",
    "from pydantic import BaseModel, Field\n",
    "from typing import List\n",
    "from langchain_core.prompts import MessagesPlaceholder\n",
    "from langchain_core.chat_history import InMemoryChatMessageHistory\n",
    "from langchain_core.runnables.history import RunnableWithMessageHistory\n",
    "from langchain.prompts import ChatPromptTemplate\n",
    "from langchain.schema import Document as LangchainDocument\n",
    "from langchain.chains import (\n",
    "    create_history_aware_retriever,\n",
    "    create_retrieval_chain,\n",
    ")\n",
    "from langchain.chains.combine_documents import create_stuff_documents_chain\n",
    "from langchain_openai import ChatOpenAI, OpenAIEmbeddings\n",
    "from langchain_chroma import Chroma\n",
    "from dotenv import load_dotenv"
   ]
  },
  {
   "cell_type": "code",
   "execution_count": 16,
   "id": "6a696cfe",
   "metadata": {},
   "outputs": [],
   "source": [
    "load_dotenv()\n",
    "\n",
    "os.environ[\"OPENAI_API_KEY\"] = str(os.environ.get(\"OPENAI_API_KEY\"))\n",
    "os.environ[\"OPENAI_API_BASE\"] = \"https://openai.vocareum.com/v1\""
   ]
  },
  {
   "cell_type": "code",
   "execution_count": 17,
   "id": "e8a31ff5",
   "metadata": {},
   "outputs": [],
   "source": [
    "llm = ChatOpenAI(model=\"gpt-3.5-turbo\", temperature=0)\n",
    "embeddings = OpenAIEmbeddings(model=\"text-embedding-3-large\")"
   ]
  },
  {
   "cell_type": "markdown",
   "id": "756c0abf",
   "metadata": {},
   "source": [
    "## Generate listings"
   ]
  },
  {
   "cell_type": "markdown",
   "id": "0c37e84d",
   "metadata": {},
   "source": [
    "Pydantic models containing the listing descriptions"
   ]
  },
  {
   "cell_type": "code",
   "execution_count": 18,
   "id": "a4d4a4b5",
   "metadata": {},
   "outputs": [],
   "source": [
    "class RealEstateDescription(BaseModel):\n",
    "    \"\"\"Information of a property\"\"\"\n",
    "    neighborhood: str = Field(..., description=\"Name of the neighborhood\")\n",
    "    price: int = Field(..., description=\"Listing price in USD\")\n",
    "    bedrooms: int = Field(..., description=\"Number of bedrooms\")\n",
    "    bathrooms: int = Field(..., description=\"Number of bathrooms\")\n",
    "    house_size: int = Field(..., description=\"Size of the house in square feet\")\n",
    "    description: str = Field(..., description=\"Detailed description of about 100 words of the property\")\n",
    "    neighborhood_description: str = Field(..., description=\"Description of the neighborhood\")\n",
    "\n",
    "class RealEstateListing(BaseModel):\n",
    "    \"\"\"A collection of real estate listings\"\"\"\n",
    "    listing: List[RealEstateDescription] = Field(..., description=\"List of real estate property descriptions\")"
   ]
  },
  {
   "cell_type": "code",
   "execution_count": null,
   "id": "0799bdc6",
   "metadata": {},
   "outputs": [],
   "source": [
    "structured_llm = llm.with_structured_output(RealEstateListing, method='function_calling', strict=True)\n",
    "prompt = \"Generate a real estate listing of 30 different properties\"\n",
    "listing = structured_llm.invoke(prompt)"
   ]
  },
  {
   "cell_type": "markdown",
   "id": "f5183c03",
   "metadata": {},
   "source": [
    "As I need to include a file that contains my synthetically generated real estate listings, I'm dumping the structured output of the llm invocation"
   ]
  },
  {
   "cell_type": "code",
   "execution_count": null,
   "id": "93d81082",
   "metadata": {},
   "outputs": [],
   "source": [
    "with open('listing.json', 'w') as f:\n",
    "    json.dump(listing.model_dump(), f)"
   ]
  },
  {
   "cell_type": "markdown",
   "id": "afffed0b",
   "metadata": {},
   "source": [
    "Loading the file (this way I can save some money and time not generating the listings every time)"
   ]
  },
  {
   "cell_type": "code",
   "execution_count": 19,
   "id": "c2a9b0ba",
   "metadata": {},
   "outputs": [],
   "source": [
    "with open('listing.json') as f:\n",
    "    listing_data = json.load(f)"
   ]
  },
  {
   "cell_type": "markdown",
   "id": "4dd59358",
   "metadata": {},
   "source": [
    "Storing listings as LangchainDocuments, that can be then stored in Chroma db. I'm using all the listing as content, and also adding the dictionary as metadata, in case I want to perform a keyword search by an specific field"
   ]
  },
  {
   "cell_type": "code",
   "execution_count": 20,
   "id": "c6031ed9",
   "metadata": {},
   "outputs": [],
   "source": [
    "\n",
    "documents = []\n",
    "for i, item in enumerate(listing_data[\"listing\"]):\n",
    "    formatted_string = \"\\n\".join(f\"{key}: {value}\" for key, value in item.items())\n",
    "    del item[\"description\"]\n",
    "    del item[\"neighborhood_description\"]\n",
    "    doc = LangchainDocument(page_content=formatted_string, metadata=item)\n",
    "    documents.append(doc)"
   ]
  },
  {
   "cell_type": "markdown",
   "id": "46bed8e0",
   "metadata": {},
   "source": [
    "Adding documents to a chroma db collection (reset first to ensure we're loading just this set of new documents)"
   ]
  },
  {
   "cell_type": "code",
   "execution_count": 21,
   "id": "ee3db8bb",
   "metadata": {},
   "outputs": [
    {
     "data": {
      "text/plain": [
       "['4cc0d51b-e426-4093-aeda-86dc4f23ca5e',\n",
       " '2488637d-15ee-4ee3-962d-385f9d979785',\n",
       " '752d6bbd-df88-4e0b-a27c-d66f2bb00d5f',\n",
       " 'a3f5fed3-a6f0-43f1-b565-78ff94dcfa13',\n",
       " 'b433cfbb-429f-4f38-8e3c-cf51bdf34aa3',\n",
       " 'a0d3bb21-c0fc-41fe-af1f-607d5f12a633',\n",
       " '0adc6377-56d8-436f-afa9-c7ecac2a5e11',\n",
       " 'fb7f33ce-59f4-4732-b4d8-1d61fb5b576f',\n",
       " 'be7f0e56-64c0-4f7a-8ea7-1cf7b3f4a244',\n",
       " 'cc2abc12-78a2-4565-9abd-480ff7fe4b71',\n",
       " '5e4303f9-012f-447b-880b-5611a0c0afc8',\n",
       " 'bce26aac-9037-49b5-be71-42cd53427936',\n",
       " 'd4226175-01f5-4686-82d2-78b0682e503b',\n",
       " '69328c08-43ee-4811-b33c-d0be9124cb86',\n",
       " 'e825843e-617f-42f1-8989-716679b96f2b',\n",
       " '09c6c53c-5a20-4863-86da-c0c5cc7382d3',\n",
       " 'fba1588d-3038-4e05-9aef-66589053e172',\n",
       " '26f2d416-3fd6-4471-95be-b6f6342d42fd',\n",
       " '36f0dae8-f77d-4586-a6bf-273e30c4dcad',\n",
       " 'f54f6147-cdf3-4d92-86c1-20edc3043e10',\n",
       " 'b449c405-4417-42d2-b872-2e25715bcd99',\n",
       " '8dd39cf9-f2ce-47fe-b435-f0d72fba1191',\n",
       " '3def128b-08f2-4832-b816-2e6c93f62631',\n",
       " '8b8bd509-e97d-4380-bc6c-05127931c3cf',\n",
       " '65d4ad6a-74cf-4f44-bbb8-a2afd0e3df92',\n",
       " '7ae75e52-601d-4c4f-97bf-1dbe09a30022',\n",
       " '0a13d429-c6a9-4706-9089-6925709ca5aa',\n",
       " '5a119c08-b3d2-438f-9704-a84c0b392eeb',\n",
       " 'dce90ab4-7cf8-4c77-ad05-4510f249c404',\n",
       " '97920091-173b-48e8-9e6f-dd8c3e6228f6']"
      ]
     },
     "execution_count": 21,
     "metadata": {},
     "output_type": "execute_result"
    }
   ],
   "source": [
    "db = Chroma(embedding_function=embeddings, persist_directory=\"db\", collection_name=\"homematch\", collection_metadata={\"hnsw:space\": \"cosine\"})\n",
    "db.reset_collection()\n",
    "db.add_documents(documents)"
   ]
  },
  {
   "cell_type": "markdown",
   "id": "e62ae563",
   "metadata": {},
   "source": [
    "## Buyer preferences"
   ]
  },
  {
   "cell_type": "markdown",
   "id": "df06eb0e",
   "metadata": {},
   "source": [
    "Adding questions and answers to a in memory chat history. Also creating a chat history store based on session_id. Storing those messages in a particular session_id.\n",
    "I added answers_option1 and answers_option2 to test the solution with different input preferences."
   ]
  },
  {
   "cell_type": "code",
   "execution_count": 22,
   "id": "82cd065e",
   "metadata": {},
   "outputs": [],
   "source": [
    "questions = [\n",
    "    \"How big do you want your house to be?\" \n",
    "    \"What are 3 most important things for you in choosing this property?\", \n",
    "    \"Which amenities would you like?\", \n",
    "    \"Which transportation options are important to you?\",\n",
    "    \"How urban do you want your neighborhood to be?\",   \n",
    "]\n",
    "answers_option1 = [\n",
    "    \"A comfortable three-bedroom house with a spacious kitchen and a cozy living room.\",\n",
    "    \"A quiet neighborhood, good local schools, and convenient shopping options.\",\n",
    "    \"A backyard for gardening, a two-car garage, and a modern, energy-efficient heating system.\",\n",
    "    \"Easy access to a reliable bus line, proximity to a major highway, and bike-friendly roads.\",\n",
    "    \"A balance between suburban tranquility and access to urban amenities like restaurants and theaters.\"\n",
    "]\n",
    "answers_option2 = [\n",
    "    \"A cheap house, with the minimum amount of bedrooms and bathrooms.\",\n",
    "    \"Low price, quiet neighborhood, next to the beach.\",\n",
    "    \"Minimum amenities for lower price.\",\n",
    "    \"Easy access to train station.\",\n",
    "    \"I don't mind meanwhile it's a quiet place and it's cheap.\"\n",
    "]\n",
    "\n",
    "history = InMemoryChatMessageHistory()\n",
    "history.add_user_message(f\"\"\"You are AI that will recommend user a property based on their answers to personal questions. Ask user {len(questions)} questions\"\"\")\n",
    "for i in range(len(questions)):\n",
    "    history.add_ai_message(questions[i])\n",
    "    history.add_user_message(answers_option2[i])\n",
    "\n",
    "store = {}\n",
    "session_id = \"property-recommendation-session\"\n",
    "store[session_id] = history\n",
    "\n",
    "def get_session_history(session_id: str) -> InMemoryChatMessageHistory:\n",
    "    if session_id not in store:\n",
    "        store[session_id] = InMemoryChatMessageHistory()\n",
    "    return store[session_id]\n"
   ]
  },
  {
   "cell_type": "markdown",
   "id": "00848e4d",
   "metadata": {},
   "source": [
    "Using create_history_aware_retriever to use the user preferences (chat history) and user question to create a new question to search in the RAG pipeline later on."
   ]
  },
  {
   "cell_type": "code",
   "execution_count": 23,
   "id": "81672027",
   "metadata": {},
   "outputs": [],
   "source": [
    "def create_context_retriever(llm, retriever):\n",
    "    \"\"\"Creates a history aware retriever chain. The prompt\n",
    "    and LLM will be used to generate a search query. That search\n",
    "    query is then passed to the retriever. The result of calling\n",
    "    this is a list of documents.\n",
    "    \"\"\"\n",
    "    contextualize_q_system_prompt = (\n",
    "        \"Given a chat history and the latest user question \"\n",
    "        \"which might reference context in the chat history, \"\n",
    "        \"formulate a standalone question which can be understood \"\n",
    "        \"without the chat history. Do NOT answer the question, \"\n",
    "        \"just reformulate it if needed and otherwise return it as is.\"\n",
    "    )\n",
    "\n",
    "    contextualize_q_prompt = ChatPromptTemplate.from_messages(\n",
    "        [\n",
    "            (\"system\", contextualize_q_system_prompt),\n",
    "            MessagesPlaceholder(\"chat_history\"),\n",
    "            (\"human\", \"{input}\"),\n",
    "        ]\n",
    "    )\n",
    "    history_aware_retriever = create_history_aware_retriever(\n",
    "        llm, retriever, contextualize_q_prompt\n",
    "    )\n",
    "    return history_aware_retriever"
   ]
  },
  {
   "cell_type": "markdown",
   "id": "ef2fda93",
   "metadata": {},
   "source": [
    "Creating chain that can deal with documents passed from the retriever, using create_stuff_documents_chain. In the prompt for this chain is where I\n",
    "augment implicitly the descriptions of the retreived properties."
   ]
  },
  {
   "cell_type": "code",
   "execution_count": 24,
   "id": "76843445",
   "metadata": {},
   "outputs": [],
   "source": [
    "def create_qa_chain(llm):\n",
    "    \"\"\"Creates a stuff documents chain. Basically, it receives\n",
    "    a list of documents and makes them available to the model.\n",
    "    \"\"\"\n",
    "    system_prompt = (\n",
    "\"\"\"\n",
    "You are an expert real state agent. Provide accurate \n",
    "answer in a proper formatted manner. Do not provide unverified \n",
    "or fabricated information. Use the following \n",
    "context and chat history to answer the user's question.:\\n\\n{context}\n",
    "\"\"\")\n",
    "\n",
    "    qa_prompt = ChatPromptTemplate.from_messages(\n",
    "        [\n",
    "            (\"system\", system_prompt),\n",
    "            MessagesPlaceholder(\"chat_history\"),\n",
    "            (\"human\", \"{input}\"),\n",
    "        ]\n",
    "    )\n",
    "\n",
    "    qa_chain = create_stuff_documents_chain(\n",
    "        llm,\n",
    "        qa_prompt,\n",
    "        document_variable_name=\"context\"\n",
    "    )\n",
    "    return qa_chain"
   ]
  },
  {
   "cell_type": "markdown",
   "id": "83eb0bca",
   "metadata": {},
   "source": [
    "Plugging in the create_history_aware_retriever and create_stuff_documents_chain using create_retrieval_chain to put all together.\n",
    "Creating then a chain using that as a basis, that also takes into consideration the chat history."
   ]
  },
  {
   "cell_type": "code",
   "execution_count": 25,
   "id": "ca8df4c0",
   "metadata": {},
   "outputs": [],
   "source": [
    "def create_chain(llm, retriever):\n",
    "    \"\"\"Creates a retrieval chain, that consist of two parts,\n",
    "    the retrieval part, that generates a list of documents, and\n",
    "    the one that takes that list and makes it available to the\n",
    "    model.\n",
    "    \"\"\"\n",
    "    history_aware_retriever = create_context_retriever(llm, retriever)\n",
    "    qa_chain = create_qa_chain(llm)\n",
    "    rag_chain = create_retrieval_chain(\n",
    "        history_aware_retriever, qa_chain\n",
    "    )\n",
    "    conversational_rag_chain = RunnableWithMessageHistory(\n",
    "        rag_chain,\n",
    "        get_session_history,\n",
    "        input_messages_key=\"input\",\n",
    "        history_messages_key=\"chat_history\",\n",
    "        output_messages_key=\"answer\",\n",
    "    )\n",
    "    return conversational_rag_chain"
   ]
  },
  {
   "cell_type": "markdown",
   "id": "6eb9a349",
   "metadata": {},
   "source": [
    "Function for invoking the chain and return the response"
   ]
  },
  {
   "cell_type": "code",
   "execution_count": 29,
   "id": "12be4b6b",
   "metadata": {},
   "outputs": [],
   "source": [
    "def invoke_chain(conversational_rag_chain: RunnableWithMessageHistory, question: str, chat_session: str) -> str:\n",
    "    \"\"\"Invokes the LLM chain.\"\"\"\n",
    "    response = None\n",
    "    additional_instructions_output = \"\"\"\n",
    "Output will consist on some text along with a list of properties. \n",
    "For each retrieved listing from the context, rephrase both the description\n",
    "and neighborhood description, keeping all the other property fields intact, tailoring it \n",
    "to resonate with the buyer’s specific preferences. This involves \n",
    "subtly emphasizing aspects of the property that align with what the \n",
    "buyer is looking for. Ensure that the rephrasing process enhances \n",
    "the appeal of the listing without altering factual information.\n",
    "Don't create false information if there's no information coming from the context.\n",
    "\"\"\"\n",
    "    result = conversational_rag_chain.invoke(\n",
    "        {\"input\": question + \"\\n\\n\"+ additional_instructions_output},\n",
    "        config={\"configurable\": {\"session_id\": chat_session}},\n",
    "    )\n",
    "    response = result.get(\"answer\", result.get(\"output\", \"\"))\n",
    "    return response"
   ]
  },
  {
   "cell_type": "markdown",
   "id": "fe6c1277",
   "metadata": {},
   "source": [
    "# Instanciating everything"
   ]
  },
  {
   "cell_type": "markdown",
   "id": "bd0d2686",
   "metadata": {},
   "source": [
    "Instanciating the conversational rag chain, using the Chroma db as retriever, configuring it to perform similarity search and return maximum 5 results."
   ]
  },
  {
   "cell_type": "code",
   "execution_count": 30,
   "id": "36fa234a",
   "metadata": {},
   "outputs": [],
   "source": [
    "conversational_rag_chain = create_chain(llm, db.as_retriever(search_type=\"similarity\", search_kwargs={\"k\": 5}))"
   ]
  },
  {
   "cell_type": "code",
   "execution_count": 32,
   "id": "76504662",
   "metadata": {},
   "outputs": [],
   "source": [
    "response = invoke_chain(conversational_rag_chain, \"Recommend me a list of properties that align with my preferences.\", session_id)"
   ]
  },
  {
   "cell_type": "code",
   "execution_count": 33,
   "id": "b7142726",
   "metadata": {},
   "outputs": [
    {
     "name": "stdout",
     "output_type": "stream",
     "text": [
      "Based on your preferences for a low-priced property in a quiet neighborhood near the beach with easy access to a train station, here are some tailored recommendations:\n",
      "\n",
      "1. **Property 1:**\n",
      "   - Price: $750,000\n",
      "   - Bedrooms: 2\n",
      "   - Bathrooms: 2\n",
      "   - House Size: 1700 sqft\n",
      "   - Description: Cozy beachfront condo with direct beach access. Relax in the living room with serene ocean views. Stylish kitchen with quartz countertops. Master suite offers ocean vistas and a spacious walk-in closet.\n",
      "   - Neighborhood Description: Tranquil beachfront location, perfect for those seeking a peaceful escape by the sea, with convenient proximity to the train station for easy commuting.\n",
      "\n",
      "2. **Property 2:**\n",
      "   - Price: $900,000\n",
      "   - Bedrooms: 3\n",
      "   - Bathrooms: 2\n",
      "   - House Size: 1800 sqft\n",
      "   - Description: Charming beachfront property with breathtaking ocean views. Open living area with high ceilings for a spacious ambiance. Modern kitchen with a breakfast bar. Master suite features a walk-in closet and a private balcony overlooking the water.\n",
      "   - Neighborhood Description: Relaxing beachfront community with sandy shores and coastal charm, providing a serene environment near the train station for convenient transportation.\n",
      "\n",
      "These properties offer the tranquility and beachside living you desire, with easy access to the train station for added convenience. Feel free to explore these options further to find your ideal beachfront retreat.\n"
     ]
    }
   ],
   "source": [
    "print(response)"
   ]
  },
  {
   "cell_type": "code",
   "execution_count": null,
   "id": "c1d3ab0a",
   "metadata": {},
   "outputs": [],
   "source": []
  }
 ],
 "metadata": {
  "kernelspec": {
   "display_name": "Python 3",
   "language": "python",
   "name": "python3"
  },
  "language_info": {
   "codemirror_mode": {
    "name": "ipython",
    "version": 3
   },
   "file_extension": ".py",
   "mimetype": "text/x-python",
   "name": "python",
   "nbconvert_exporter": "python",
   "pygments_lexer": "ipython3",
   "version": "3.12.11"
  }
 },
 "nbformat": 4,
 "nbformat_minor": 5
}
