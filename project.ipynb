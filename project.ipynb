{
 "cells": [
  {
   "cell_type": "markdown",
   "id": "ffff9471",
   "metadata": {},
   "source": [
    "# HomeMatch"
   ]
  },
  {
   "cell_type": "code",
   "execution_count": 1,
   "id": "1ddf2bad",
   "metadata": {},
   "outputs": [],
   "source": [
    "import os\n",
    "from pydantic import BaseModel, Field\n",
    "from typing import List\n",
    "from langchain_openai import ChatOpenAI\n",
    "from dotenv import load_dotenv"
   ]
  },
  {
   "cell_type": "code",
   "execution_count": 2,
   "id": "6a696cfe",
   "metadata": {},
   "outputs": [],
   "source": [
    "load_dotenv()\n",
    "\n",
    "os.environ[\"OPENAI_API_KEY\"] = str(os.environ.get(\"OPENAI_API_KEY\"))\n",
    "os.environ[\"OPENAI_API_BASE\"] = \"https://openai.vocareum.com/v1\""
   ]
  },
  {
   "cell_type": "code",
   "execution_count": 3,
   "id": "e8a31ff5",
   "metadata": {},
   "outputs": [],
   "source": [
    "llm = ChatOpenAI(model=\"gpt-3.5-turbo\", temperature=0)"
   ]
  },
  {
   "cell_type": "code",
   "execution_count": null,
   "id": "a4d4a4b5",
   "metadata": {},
   "outputs": [
    {
     "name": "stderr",
     "output_type": "stream",
     "text": [
      "/Users/dtabas/Library/CloudStorage/OneDrive-Danaher/Projects/Udacity/real_state_project/genai_exercise/.conda/lib/python3.12/site-packages/langchain_openai/chat_models/base.py:1857: UserWarning: Cannot use method='json_schema' with model gpt-3.5-turbo since it doesn't support OpenAI's Structured Output API. You can see supported models here: https://platform.openai.com/docs/guides/structured-outputs#supported-models. To fix this warning, set `method='function_calling'. Overriding to method='function_calling'.\n",
      "  warnings.warn(\n"
     ]
    }
   ],
   "source": [
    "class RealEstateDescription(BaseModel):\n",
    "    \"\"\"Information of a property\"\"\"\n",
    "    neighborhood: str = Field(..., description=\"Name of the neighborhood\")\n",
    "    price: int = Field(..., description=\"Listing price in USD\")\n",
    "    bedrooms: int = Field(..., description=\"Number of bedrooms\")\n",
    "    bathrooms: int = Field(..., description=\"Number of bathrooms\")\n",
    "    house_size: int = Field(..., description=\"Size of the house in square feet\")\n",
    "    description: str = Field(..., description=\"Detailed description of about 100 words of the property\")\n",
    "    neighborhood_description: str = Field(..., description=\"Description of the neighborhood\")\n",
    "\n",
    "class RealEstateListing(BaseModel):\n",
    "    \"\"\"A collection of real estate listings\"\"\"\n",
    "    listing: List[RealEstateDescription] = Field(..., description=\"List of real estate property descriptions\")\n",
    "\n",
    "\n",
    "structured_llm = llm.with_structured_output(RealEstateListing)\n",
    "prompt = \"Generate a real estate listing of 20 properties\"\n",
    "listing = structured_llm.invoke(prompt)"
   ]
  },
  {
   "cell_type": "code",
   "execution_count": null,
   "id": "c6031ed9",
   "metadata": {},
   "outputs": [
    {
     "data": {
      "text/plain": [
       "RealEstateListing(listing=[RealEstateDescription(neighborhood='Downtown', price=500000, bedrooms=3, bathrooms=2, house_size=2000, description='Beautiful modern condo in the heart of downtown. Spacious living area with high ceilings and large windows. Updated kitchen with stainless steel appliances. Master bedroom with ensuite bathroom. Close to restaurants, shops, and public transportation.', neighborhood_description='Vibrant neighborhood with a mix of residential and commercial buildings.'), RealEstateDescription(neighborhood='Suburbia', price=400000, bedrooms=4, bathrooms=3, house_size=2500, description='Charming family home in a quiet suburban neighborhood. Open concept living and dining area with hardwood floors. Cozy fireplace in the living room. Large backyard with a deck for outdoor entertaining. Close to schools and parks.', neighborhood_description='Family-friendly community with tree-lined streets and parks.'), RealEstateDescription(neighborhood='Waterfront', price=700000, bedrooms=2, bathrooms=2, house_size=1800, description='Luxurious waterfront condo with stunning views of the bay. Modern kitchen with granite countertops and high-end appliances. Spacious bedrooms with walk-in closets. Balcony overlooking the water. Amenities include a pool, gym, and concierge services.', neighborhood_description='Upscale waterfront community with marinas and waterfront dining.'), RealEstateDescription(neighborhood='Historic District', price=600000, bedrooms=3, bathrooms=2, house_size=2200, description='Historic townhouse with original architectural details. Elegant living room with a fireplace and crown molding. Updated kitchen with a breakfast nook. Master suite with a private balcony. Walking distance to historic sites and museums.', neighborhood_description='Quaint neighborhood with cobblestone streets and historic landmarks.'), RealEstateDescription(neighborhood='Mountain View', price=450000, bedrooms=3, bathrooms=2, house_size=1900, description='Cozy mountain retreat with panoramic views of the mountains. Rustic cabin-style home with a stone fireplace and wood beams. Spacious deck for outdoor dining and relaxation. Close to hiking trails and ski resorts.', neighborhood_description='Tranquil mountain community with access to outdoor activities.'), RealEstateDescription(neighborhood='Beachfront', price=800000, bedrooms=4, bathrooms=3, house_size=2800, description='Beachfront property with direct access to the beach. Open floor plan with ocean views from every room. Gourmet kitchen with a large island. Master suite with a spa-like bathroom. Outdoor patio for al fresco dining.', neighborhood_description='Exclusive beachfront community with private beach access.'), RealEstateDescription(neighborhood='Golf Course Community', price=650000, bedrooms=3, bathrooms=3, house_size=2400, description='Elegant home in a golf course community with scenic views of the fairways. Formal dining room and a cozy family room with a fireplace. Master suite with a sitting area and a luxurious bathroom. Backyard with a patio overlooking the golf course.', neighborhood_description='Gated community with a golf course, clubhouse, and amenities.'), RealEstateDescription(neighborhood='Lakefront', price=750000, bedrooms=4, bathrooms=3, house_size=2600, description='Lakefront property with a private dock and boat slip. Spacious living area with vaulted ceilings and lake views. Updated kitchen with granite countertops and stainless steel appliances. Master suite with a balcony overlooking the lake.', neighborhood_description='Tranquil lakefront community with water activities and scenic views.'), RealEstateDescription(neighborhood='City Center', price=550000, bedrooms=2, bathrooms=2, house_size=1700, description='Modern city center loft with industrial-chic design. Open concept living space with exposed brick walls and concrete floors. Gourmet kitchen with a breakfast bar. Master bedroom with a walk-in closet. Close to restaurants, galleries, and nightlife.', neighborhood_description='Urban neighborhood with a mix of residential and commercial spaces.'), RealEstateDescription(neighborhood='Countryside', price=350000, bedrooms=3, bathrooms=2, house_size=1800, description='Quaint farmhouse in the peaceful countryside. Wrap-around porch with rocking chairs. Cozy living room with a wood-burning stove. Spacious kitchen with a farmhouse sink. Large backyard with a garden and fruit trees.', neighborhood_description='Rural countryside with rolling hills and farmland.'), RealEstateDescription(neighborhood='Ski Resort', price=900000, bedrooms=5, bathrooms=4, house_size=3000, description='Luxury ski chalet at the base of the mountain. Vaulted ceilings and exposed wood beams. Stone fireplace in the great room. Gourmet kitchen with a wine fridge. Ski-in/ski-out access to the slopes. Hot tub and sauna for apres-ski relaxation.', neighborhood_description='Ski-in/ski-out community with access to ski slopes and winter activities.'), RealEstateDescription(neighborhood='Riverside', price=480000, bedrooms=3, bathrooms=2, house_size=2000, description='Riverside cottage with a tranquil setting along the river. Cozy living room with a stone fireplace. Updated kitchen with river views. Master bedroom with a private deck. Outdoor patio for enjoying the sounds of the river.', neighborhood_description='Peaceful riverside community with fishing and boating opportunities.'), RealEstateDescription(neighborhood='Historic District', price=620000, bedrooms=4, bathrooms=3, house_size=2400, description='Historic colonial home with period details and modern updates. Formal living and dining rooms with hardwood floors. Gourmet kitchen with a farmhouse sink. Master suite with a clawfoot tub. Landscaped backyard with a pergola.', neighborhood_description='Charming historic district with tree-lined streets and historic homes.'), RealEstateDescription(neighborhood='Sunny Suburb', price=420000, bedrooms=3, bathrooms=2, house_size=1900, description='Bright and sunny home in a suburban neighborhood. Open floor plan with a spacious living area. Updated kitchen with granite countertops and stainless steel appliances. Master bedroom with a walk-in closet. Backyard with a patio for outdoor entertaining.', neighborhood_description='Sunny suburban community with parks and walking trails.'), RealEstateDescription(neighborhood='Downtown Loft', price=580000, bedrooms=2, bathrooms=2, house_size=1600, description='Chic loft in a historic downtown building. Exposed brick walls and hardwood floors. Open concept living and dining area. Modern kitchen with a breakfast bar. Master suite with a walk-in closet. Close to shops, restaurants, and public transportation.', neighborhood_description='Trendy downtown neighborhood with loft-style living spaces.'), RealEstateDescription(neighborhood='Waterfront Estate', price=950000, bedrooms=5, bathrooms=4, house_size=3500, description=\"Luxury waterfront estate with panoramic views of the bay. Grand foyer with a sweeping staircase. Formal living and dining rooms with water views. Gourmet kitchen with a butler's pantry. Master suite with a private balcony. Outdoor pool and spa.\", neighborhood_description='Exclusive waterfront community with private estates and marinas.'), RealEstateDescription(neighborhood='Mountain Retreat', price=400000, bedrooms=2, bathrooms=2, house_size=1500, description='Cozy mountain retreat with a rustic cabin feel. Vaulted ceilings and a stone fireplace in the living room. Updated kitchen with granite countertops. Master bedroom with a private balcony. Deck for enjoying mountain views.', neighborhood_description='Tranquil mountain community with hiking trails and wildlife.'), RealEstateDescription(neighborhood='Beach House', price=700000, bedrooms=3, bathrooms=3, house_size=2200, description='Beachfront house with panoramic ocean views. Open concept living area with vaulted ceilings. Gourmet kitchen with a large island. Master suite with a spa-like bathroom. Outdoor deck for watching sunsets over the ocean.', neighborhood_description='Desirable beachfront community with sandy beaches and coastal charm.'), RealEstateDescription(neighborhood='Golf Course Villa', price=800000, bedrooms=4, bathrooms=4, house_size=2800, description='Luxury villa in a golf course community with views of the fairways. Formal living and dining rooms with high ceilings. Gourmet kitchen with a breakfast nook. Master suite with a sitting area and a luxurious bathroom. Backyard with a patio and golf course views.', neighborhood_description='Upscale golf course community with amenities and scenic views.')])"
      ]
     },
     "execution_count": 7,
     "metadata": {},
     "output_type": "execute_result"
    }
   ],
   "source": []
  },
  {
   "cell_type": "code",
   "execution_count": null,
   "id": "ee3db8bb",
   "metadata": {},
   "outputs": [],
   "source": []
  }
 ],
 "metadata": {
  "kernelspec": {
   "display_name": "Python 3",
   "language": "python",
   "name": "python3"
  },
  "language_info": {
   "codemirror_mode": {
    "name": "ipython",
    "version": 3
   },
   "file_extension": ".py",
   "mimetype": "text/x-python",
   "name": "python",
   "nbconvert_exporter": "python",
   "pygments_lexer": "ipython3",
   "version": "3.12.11"
  }
 },
 "nbformat": 4,
 "nbformat_minor": 5
}
